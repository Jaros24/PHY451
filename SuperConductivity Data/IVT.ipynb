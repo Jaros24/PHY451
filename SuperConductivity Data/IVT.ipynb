{
 "cells": [
  {
   "cell_type": "code",
   "execution_count": 9,
   "id": "ae08a8ac",
   "metadata": {},
   "outputs": [],
   "source": [
    "import numpy as np\n",
    "import matplotlib.pyplot as plt\n",
    "import pandas as pd\n",
    "import sys\n",
    "import gpib\n",
    "import time\n",
    "import tqdm"
   ]
  },
  {
   "cell_type": "code",
   "execution_count": null,
   "id": "51695f85",
   "metadata": {},
   "outputs": [],
   "source": [
    "class YokogawaGS200(object):\n",
    "\tdef __init__(self, gpib, addr):\n",
    "\t\tself.gpib = gpib\n",
    "\t\tself.addr = addr\n",
    "\t\t\n",
    "\t\tself.gpib.addr(self.addr)\n",
    "\t\tid = self.gpib('*idn?', True)\n",
    "\t\tif not id.startswith('YOKOGAWA,GS2'):\n",
    "\t\t\traise ValueError('Device identifies as ' + id)\n",
    "\n",
    "\tdef output(self, on):\n",
    "\t\tself.gpib.addr(self.addr)\n",
    "\t\tif on:\n",
    "\t\t\tself.gpib(':OUTP 1')\n",
    "\t\telse:\n",
    "\t\t\tself.gpib(':OUTP 0')\n",
    "\n",
    "\tdef voltage_mode(self):\n",
    "\t\tself.gpib.addr(self.addr)\n",
    "\t\tself.gpib(':SOUR:FUNC VOLT')\n",
    "\n",
    "\tdef current_mode(self):\n",
    "\t\tself.gpib.addr(self.addr)\n",
    "\t\tself.gpib(':SOUR:FUNC CURR')\n",
    "\n",
    "\tdef set_range(self, range):\n",
    "\t\t''' Valid values are .001, .01, .1, .2, 1, 10, 30 '''\n",
    "\t\tself.gpib.addr(self.addr)\n",
    "\n",
    "\t\tif range < 1:\n",
    "\t\t\tself.gpib(':SOUR:RANG %dE-3' % (range*1000))\n",
    "\t\telse:\n",
    "\t\t\tself.gpib(':SOUR:RANG %dE+0' % range)\n",
    "\n",
    "\t\tnewrange = self.gpib(':SOUR:RANG?', True)\n",
    "\t\tif float(newrange) != range:\n",
    "\t\t\traise ValueError('GS200 did not accept request for range %f, returned %s' % (range, newrange))\n",
    "\t\treturn newrange\n",
    "\n",
    "\tdef set_level(self, level):\n",
    "\t\tself.gpib.addr(self.addr)\n",
    "\t\tself.gpib(':SOUR:LEV %f' % level)\n",
    "\n",
    "class Keysight34420A(object):\n",
    "\tdef __init__(self, gpib, addr):\n",
    "\t\tself.gpib = gpib\n",
    "\t\tself.addr = addr\n",
    "\t\t\n",
    "\t\tself.gpib.addr(self.addr)\n",
    "\t\tid = self.gpib('*idn?', True)\n",
    "\t\tif not id.startswith('HEWLETT-PACKARD,34420A'):\n",
    "\t\t\traise ValueError('Device identifies as ' + id)\n",
    "\n",
    "\tdef get_value(self, range='AUTO', channel=1):\n",
    "\t\t''' Gets the value before this command, then triggers an update for the next call '''\n",
    "\t\tself.gpib.addr(23)\n",
    "\t\treturn float(self.gpib('MEAS:VOLT:DC? %s,(@%d)' % (range, channel), True))\n",
    "\n",
    "class Kiethley196(object):\n",
    "\tdef __init__(self, gpib, addr):\n",
    "\t\tself.gpib = gpib\n",
    "\t\tself.addr = addr\n",
    "\t\t\n",
    "\t\tself.gpib.addr(self.addr)\n",
    "\t\tid = self.gpib('', True)\n",
    "\t\tif not id.startswith('N'):\n",
    "\t\t\traise ValueError('Unexpected device response ' + id)\n",
    "\n",
    "\tdef dc_volts(self):\n",
    "\t\tself.gpib.addr(self.addr)\n",
    "\t\tself.gpib('F0X', True)\n",
    "\tdef ac_volts(self):\n",
    "\t\tself.gpib.addr(self.addr)\n",
    "\t\tself.gpib('F1X', True)\n",
    "\tdef dc_amps(self):\n",
    "\t\tself.gpib.addr(self.addr)\n",
    "\t\tself.gpib('F3X', True)\n",
    "\tdef ac_amps(self):\n",
    "\t\tself.gpib.addr(self.addr)\n",
    "\t\tself.gpib('F4X', True)\n",
    "\tdef ohms(self):\n",
    "\t\tself.gpib.addr(self.addr)\n",
    "\t\tself.gpib('F2X', True)\n",
    "\tdef range(self, range):\n",
    "\t\t'''Set range to a value in 0-7. 0 is AUTO, while higher numbers are 3 * 10^(x0 + range), with x0 = -4 for voltages, -7 for current, and +1 for resistance. '''\n",
    "\t\tself.gpib.addr(self.addr)\n",
    "\t\tself.gpib('F%dX' % range, True)\n",
    "\tdef get_value(self):\n",
    "\t\tself.gpib.addr(self.addr)\n",
    "\t\trval = self.gpib('', True)\n",
    "\t\tbk = rval.find('+')\n",
    "\t\tif bk < 0 or (0 < rval.find('-') < bk):\n",
    "\t\t\tbk = rval.find('-')\n",
    "\t\treturn (float(rval[bk:]), rval[1:bk])\n",
    "\n",
    "gpibint = gpib.PrologixGPIB('COM3')\n",
    "yk = YokogawaGS200(gpibint, 1) # POWER SUPPLY\n",
    "dvm = Keysight34420A(gpibint, 23) # VOLT METER\n",
    "dmm = Kiethley196(gpibint, 9) # 2ND VOLT METER\n",
    "yk.current_mode()\n",
    "yk.set_range(.1)\n",
    "yk.set_level(0.0)\n",
    "yk.output(True)"
   ]
  },
  {
   "cell_type": "code",
   "execution_count": 16,
   "id": "3c1d7a25",
   "metadata": {},
   "outputs": [],
   "source": [
    "def measure_current(current_mA, sleep_time=0.1):\n",
    "    yk.set_level(current_mA / 1000.0)\n",
    "    time.sleep(sleep_time)\n",
    "    try:\n",
    "        return dvm.get_value(channel=1)\n",
    "    except:\n",
    "        print('Error reading DVM')\n",
    "        return None\n",
    "    finally:\n",
    "        yk.set_level(0.0)"
   ]
  },
  {
   "cell_type": "code",
   "execution_count": 28,
   "id": "ef3d4821",
   "metadata": {},
   "outputs": [
    {
     "name": "stderr",
     "output_type": "stream",
     "text": [
      "  3%|▎         | 1/30 [00:01<00:32,  1.11s/it]"
     ]
    },
    {
     "name": "stdout",
     "output_type": "stream",
     "text": [
      "Error reading DVM\n"
     ]
    },
    {
     "name": "stderr",
     "output_type": "stream",
     "text": [
      "  7%|▋         | 2/30 [00:02<00:31,  1.11s/it]"
     ]
    },
    {
     "name": "stdout",
     "output_type": "stream",
     "text": [
      "Error reading DVM\n"
     ]
    },
    {
     "name": "stderr",
     "output_type": "stream",
     "text": [
      " 10%|█         | 3/30 [00:03<00:29,  1.11s/it]"
     ]
    },
    {
     "name": "stdout",
     "output_type": "stream",
     "text": [
      "Error reading DVM\n"
     ]
    },
    {
     "name": "stderr",
     "output_type": "stream",
     "text": [
      " 13%|█▎        | 4/30 [00:04<00:28,  1.11s/it]"
     ]
    },
    {
     "name": "stdout",
     "output_type": "stream",
     "text": [
      "Error reading DVM\n"
     ]
    },
    {
     "name": "stderr",
     "output_type": "stream",
     "text": [
      " 17%|█▋        | 5/30 [00:05<00:27,  1.11s/it]"
     ]
    },
    {
     "name": "stdout",
     "output_type": "stream",
     "text": [
      "Error reading DVM\n"
     ]
    },
    {
     "name": "stderr",
     "output_type": "stream",
     "text": [
      " 20%|██        | 6/30 [00:06<00:26,  1.12s/it]"
     ]
    },
    {
     "name": "stdout",
     "output_type": "stream",
     "text": [
      "Error reading DVM\n"
     ]
    },
    {
     "name": "stderr",
     "output_type": "stream",
     "text": [
      " 23%|██▎       | 7/30 [00:07<00:25,  1.11s/it]"
     ]
    },
    {
     "name": "stdout",
     "output_type": "stream",
     "text": [
      "Error reading DVM\n"
     ]
    },
    {
     "name": "stderr",
     "output_type": "stream",
     "text": [
      " 27%|██▋       | 8/30 [00:08<00:24,  1.11s/it]"
     ]
    },
    {
     "name": "stdout",
     "output_type": "stream",
     "text": [
      "Error reading DVM\n"
     ]
    },
    {
     "name": "stderr",
     "output_type": "stream",
     "text": [
      " 30%|███       | 9/30 [00:10<00:23,  1.11s/it]"
     ]
    },
    {
     "name": "stdout",
     "output_type": "stream",
     "text": [
      "Error reading DVM\n"
     ]
    },
    {
     "name": "stderr",
     "output_type": "stream",
     "text": [
      " 33%|███▎      | 10/30 [00:11<00:22,  1.12s/it]"
     ]
    },
    {
     "name": "stdout",
     "output_type": "stream",
     "text": [
      "Error reading DVM\n"
     ]
    },
    {
     "name": "stderr",
     "output_type": "stream",
     "text": [
      "100%|██████████| 30/30 [00:26<00:00,  1.15it/s]\n"
     ]
    },
    {
     "data": {
      "text/plain": [
       "Text(0.5, 1.0, 'IV Curve')"
      ]
     },
     "execution_count": 28,
     "metadata": {},
     "output_type": "execute_result"
    },
    {
     "data": {
      "image/png": "[encoded data removed]",
      "text/plain": [
       "<Figure size 640x480 with 1 Axes>"
      ]
     },
     "metadata": {},
     "output_type": "display_data"
    }
   ],
   "source": [
    "IVR = []\n",
    "for i in tqdm.trange(0, 30, 1):\n",
    "    v = measure_current(i)\n",
    "    if v is not None:\n",
    "        IVR.append((i, v, v/i))\n",
    "\n",
    "plt.plot(*zip(*IVR))\n",
    "plt.xlabel('Current (mA)')\n",
    "plt.ylabel('Voltage (V)')\n",
    "plt.title('IV Curve')"
   ]
  },
  {
   "cell_type": "code",
   "execution_count": 29,
   "id": "9ef849a4",
   "metadata": {},
   "outputs": [
    {
     "data": {
      "text/plain": [
       "Text(0, 0.5, 'Resistance (Ohm)')"
      ]
     },
     "execution_count": 29,
     "metadata": {},
     "output_type": "execute_result"
    },
    {
     "data": {
      "image/png": "[encoded data removed]",
      "text/plain": [
       "<Figure size 640x480 with 1 Axes>"
      ]
     },
     "metadata": {},
     "output_type": "display_data"
    }
   ],
   "source": [
    "I, V, R = zip(*IVR)\n",
    "plt.plot(I, np.array(R)*-1000)\n",
    "plt.xlabel('Current (mA)')\n",
    "plt.ylabel('Resistance (Ohm)')"
   ]
  },
  {
   "cell_type": "code",
   "execution_count": null,
   "id": "f47358d7",
   "metadata": {},
   "outputs": [],
   "source": []
  }
 ],
 "metadata": {
  "kernelspec": {
   "display_name": "Python 3",
   "language": "python",
   "name": "python3"
  },
  "language_info": {
   "codemirror_mode": {
    "name": "ipython",
    "version": 3
   },
   "file_extension": ".py",
   "mimetype": "text/x-python",
   "name": "python",
   "nbconvert_exporter": "python",
   "pygments_lexer": "ipython3",
   "version": "3.11.8"
  }
 },
 "nbformat": 4,
 "nbformat_minor": 5
}
